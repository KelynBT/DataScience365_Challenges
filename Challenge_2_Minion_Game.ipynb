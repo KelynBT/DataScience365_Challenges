{
 "cells": [
  {
   "cell_type": "code",
   "execution_count": 1,
   "metadata": {},
   "outputs": [
    {
     "name": "stdout",
     "output_type": "stream",
     "text": [
      "oso\n",
      "Kevin 4\n"
     ]
    }
   ],
   "source": [
    "#Kelyn Botina Trujillo Team 9 - Pandas\n",
    "def minion_game(string):\n",
    "    vowels='AEIOU'\n",
    "    length=len(string)\n",
    "    if length>0 & length<10**6:\n",
    "        string=string.upper()\n",
    "        total_strings=length*(length+1)/2\n",
    "        vowel_count=0\n",
    "    \n",
    "        for i in range(0,length):\n",
    "            if (string[i] in vowels):\n",
    "                vowel_count = vowel_count + length-i\n",
    "        Stuart_score = abs(total_strings-vowel_count)\n",
    "    \n",
    "        if Stuart_score>vowel_count:\n",
    "            print('Stuart', int(Stuart_score))\n",
    "        elif (vowel_count>Stuart_score):\n",
    "            print('Kevin', int(vowel_count))\n",
    "        else:\n",
    "            print('Draw')\n",
    "    else:\n",
    "        print('Longitud de la cadena fuera de rango')\n",
    "            \n",
    "if __name__ == '__main__':\n",
    "    s = input()\n",
    "    minion_game(s)"
   ]
  }
 ],
 "metadata": {
  "kernelspec": {
   "display_name": "Python 3",
   "language": "python",
   "name": "python3"
  },
  "language_info": {
   "codemirror_mode": {
    "name": "ipython",
    "version": 3
   },
   "file_extension": ".py",
   "mimetype": "text/x-python",
   "name": "python",
   "nbconvert_exporter": "python",
   "pygments_lexer": "ipython3",
   "version": "3.8.3"
  }
 },
 "nbformat": 4,
 "nbformat_minor": 4
}
